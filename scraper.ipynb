{
 "cells": [
  {
   "cell_type": "code",
   "execution_count": 73,
   "metadata": {},
   "outputs": [],
   "source": [
    "import json\n",
    "import requests\n",
    "from selectolax.lexbor import LexborHTMLParser"
   ]
  },
  {
   "cell_type": "code",
   "execution_count": 74,
   "metadata": {},
   "outputs": [],
   "source": [
    "def flipkart_price(url:str)-> int:\n",
    "    response = requests.get(url)\n",
    "    tree = LexborHTMLParser(response.content)\n",
    "    price_data = tree.css_first(\"._30jeq3\").text()[1:]\n",
    "    try:\n",
    "        price = int(price_data)\n",
    "    except ValueError:\n",
    "        price = None\n",
    "    return price\n"
   ]
  },
  {
   "cell_type": "code",
   "execution_count": 78,
   "metadata": {},
   "outputs": [],
   "source": [
    "def amazon_price(ASIN:str) -> int:\n",
    "    url = f\"https://www.amazon.in/gp/twister/dimension?isDimensionSlotsAjax=1&asinList={ASIN}&vs=1&productTypeDefinition=NOTEBOOK_COMPUTER&productGroupId=pc_display_on_website&isPrime=1&isOneClickEnabled=0&originalHttpReferer=https%3A%2F%2Fwww.amazon.in%2Fref%3Dnav_logo&deviceType=web&showFancyPrice=false&twisterFlavor=twisterPlusDesktopConfigurator\"\n",
    "    amzn_headers = {\n",
    "    'User-Agent': 'Mozilla/5.0 (X11; Linux x86_64; rv:121.0) Gecko/20100101 Firefox/121.0',\n",
    "    'Accept': 'text/html,*/*',\n",
    "    'Accept-Language': 'en-US,en;q=0.5',\n",
    "    'Accept-Encoding': 'gzip, deflate, br',\n",
    "    'X-Requested-With': 'XMLHttpRequest',\n",
    "    'DNT': '1',\n",
    "    'Connection': 'keep-alive',\n",
    "    'Referer': f\"https://www.amazon.in/dp/{ASIN}/?_encoding=UTF8&ref_=pd_gw_deals_ct_t1\",\n",
    "    'Cookie': 'i18n-prefs=INR; ubid-acbin=262-9143999-8509443; lc-acbin=en_US',\n",
    "    'Sec-Fetch-Dest': 'empty',\n",
    "    'Sec-Fetch-Mode': 'cors',\n",
    "    'Sec-Fetch-Site': 'same-origin',\n",
    "    'TE': 'trailers'\n",
    "    }\n",
    "    response = requests.get(url, headers=amzn_headers)\n",
    "    price_data = json.loads(response.text)\n",
    "    print(price_data)\n",
    "    try:\n",
    "        price = int(float(price_data[\"Value\"][\"content\"][\"twisterSlotJson\"][\"price\"]))\n",
    "    except ValueError:\n",
    "        price = None\n",
    "    return price"
   ]
  },
  {
   "cell_type": "code",
   "execution_count": 79,
   "metadata": {},
   "outputs": [
    {
     "name": "stdout",
     "output_type": "stream",
     "text": [
      "The price of flipkart product is:  756\n"
     ]
    }
   ],
   "source": [
    "print(\"The price of flipkart product is: \",flipkart_price(\"https://www.flipkart.com/ensure-complete-balanced-health-nutrition-drink/p/itm89ed79602371d?pid=ESRF3DZ2FYXRZ9XF\"))\n"
   ]
  },
  {
   "cell_type": "code",
   "execution_count": 80,
   "metadata": {},
   "outputs": [
    {
     "name": "stdout",
     "output_type": "stream",
     "text": [
      "{'ASIN': 'B0C27VNNWH', 'Type': 'JSON', 'sortOfferInfo': '', 'isPrimeEligible': 'false', 'Value': {'content': {'twisterSlotJson': {'price': '53990.0'}, 'twisterSlotDiv': '<span id=\"_price\" class=\"a-color-secondary twister_swatch_price unified-price\">             <span class=\"a-size-mini twisterSwatchPrice\"> ₹53,990.00 </span>      </span>'}}}\n",
      "The price of amazon product is:  53990\n"
     ]
    }
   ],
   "source": [
    "print(\"The price of amazon product is: \",amazon_price(ASIN=\"B0C27VNNWH\"))"
   ]
  },
  {
   "cell_type": "code",
   "execution_count": null,
   "metadata": {},
   "outputs": [],
   "source": []
  }
 ],
 "metadata": {
  "kernelspec": {
   "display_name": "env",
   "language": "python",
   "name": "python3"
  },
  "language_info": {
   "codemirror_mode": {
    "name": "ipython",
    "version": 3
   },
   "file_extension": ".py",
   "mimetype": "text/x-python",
   "name": "python",
   "nbconvert_exporter": "python",
   "pygments_lexer": "ipython3",
   "version": "3.11.2"
  }
 },
 "nbformat": 4,
 "nbformat_minor": 2
}
